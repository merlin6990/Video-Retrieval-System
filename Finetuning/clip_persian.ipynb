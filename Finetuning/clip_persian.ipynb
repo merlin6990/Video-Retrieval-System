{
  "nbformat": 4,
  "nbformat_minor": 0,
  "metadata": {
    "colab": {
      "provenance": [],
      "gpuType": "T4"
    },
    "kernelspec": {
      "name": "python3",
      "display_name": "Python 3"
    },
    "language_info": {
      "name": "python"
    },
    "widgets": {
      "application/vnd.jupyter.widget-state+json": {
        "0fd31fb8b97148f4969262b893c647fb": {
          "model_module": "@jupyter-widgets/controls",
          "model_name": "HBoxModel",
          "model_module_version": "1.5.0",
          "state": {
            "_dom_classes": [],
            "_model_module": "@jupyter-widgets/controls",
            "_model_module_version": "1.5.0",
            "_model_name": "HBoxModel",
            "_view_count": null,
            "_view_module": "@jupyter-widgets/controls",
            "_view_module_version": "1.5.0",
            "_view_name": "HBoxView",
            "box_style": "",
            "children": [
              "IPY_MODEL_4d7830ae1fcc45309ae66bafe65ed05a",
              "IPY_MODEL_73f023e05a9f4a5885778b92a2d2a3f2",
              "IPY_MODEL_6bac5d1ec7be4070a44902477316826a"
            ],
            "layout": "IPY_MODEL_ef134475e8424800868a59d19c1ef003"
          }
        },
        "4d7830ae1fcc45309ae66bafe65ed05a": {
          "model_module": "@jupyter-widgets/controls",
          "model_name": "HTMLModel",
          "model_module_version": "1.5.0",
          "state": {
            "_dom_classes": [],
            "_model_module": "@jupyter-widgets/controls",
            "_model_module_version": "1.5.0",
            "_model_name": "HTMLModel",
            "_view_count": null,
            "_view_module": "@jupyter-widgets/controls",
            "_view_module_version": "1.5.0",
            "_view_name": "HTMLView",
            "description": "",
            "description_tooltip": null,
            "layout": "IPY_MODEL_884bb028b5944c5c851c8e77af0afadb",
            "placeholder": "​",
            "style": "IPY_MODEL_da53f905e32c4b57ab81b1c0ef4ede56",
            "value": "pytorch_model.bin: 100%"
          }
        },
        "73f023e05a9f4a5885778b92a2d2a3f2": {
          "model_module": "@jupyter-widgets/controls",
          "model_name": "FloatProgressModel",
          "model_module_version": "1.5.0",
          "state": {
            "_dom_classes": [],
            "_model_module": "@jupyter-widgets/controls",
            "_model_module_version": "1.5.0",
            "_model_name": "FloatProgressModel",
            "_view_count": null,
            "_view_module": "@jupyter-widgets/controls",
            "_view_module_version": "1.5.0",
            "_view_name": "ProgressView",
            "bar_style": "success",
            "description": "",
            "description_tooltip": null,
            "layout": "IPY_MODEL_70445904bf6542b8adc77d65342db35b",
            "max": 654226731,
            "min": 0,
            "orientation": "horizontal",
            "style": "IPY_MODEL_8f137f4279324601872232f85c4fdbac",
            "value": 654226731
          }
        },
        "6bac5d1ec7be4070a44902477316826a": {
          "model_module": "@jupyter-widgets/controls",
          "model_name": "HTMLModel",
          "model_module_version": "1.5.0",
          "state": {
            "_dom_classes": [],
            "_model_module": "@jupyter-widgets/controls",
            "_model_module_version": "1.5.0",
            "_model_name": "HTMLModel",
            "_view_count": null,
            "_view_module": "@jupyter-widgets/controls",
            "_view_module_version": "1.5.0",
            "_view_name": "HTMLView",
            "description": "",
            "description_tooltip": null,
            "layout": "IPY_MODEL_abfdf343c26e4ec7a97f3fba029e46be",
            "placeholder": "​",
            "style": "IPY_MODEL_3a1f887ee26f471e92b469b1f2bc1317",
            "value": " 654M/654M [00:03&lt;00:00, 155MB/s]"
          }
        },
        "ef134475e8424800868a59d19c1ef003": {
          "model_module": "@jupyter-widgets/base",
          "model_name": "LayoutModel",
          "model_module_version": "1.2.0",
          "state": {
            "_model_module": "@jupyter-widgets/base",
            "_model_module_version": "1.2.0",
            "_model_name": "LayoutModel",
            "_view_count": null,
            "_view_module": "@jupyter-widgets/base",
            "_view_module_version": "1.2.0",
            "_view_name": "LayoutView",
            "align_content": null,
            "align_items": null,
            "align_self": null,
            "border": null,
            "bottom": null,
            "display": null,
            "flex": null,
            "flex_flow": null,
            "grid_area": null,
            "grid_auto_columns": null,
            "grid_auto_flow": null,
            "grid_auto_rows": null,
            "grid_column": null,
            "grid_gap": null,
            "grid_row": null,
            "grid_template_areas": null,
            "grid_template_columns": null,
            "grid_template_rows": null,
            "height": null,
            "justify_content": null,
            "justify_items": null,
            "left": null,
            "margin": null,
            "max_height": null,
            "max_width": null,
            "min_height": null,
            "min_width": null,
            "object_fit": null,
            "object_position": null,
            "order": null,
            "overflow": null,
            "overflow_x": null,
            "overflow_y": null,
            "padding": null,
            "right": null,
            "top": null,
            "visibility": null,
            "width": null
          }
        },
        "884bb028b5944c5c851c8e77af0afadb": {
          "model_module": "@jupyter-widgets/base",
          "model_name": "LayoutModel",
          "model_module_version": "1.2.0",
          "state": {
            "_model_module": "@jupyter-widgets/base",
            "_model_module_version": "1.2.0",
            "_model_name": "LayoutModel",
            "_view_count": null,
            "_view_module": "@jupyter-widgets/base",
            "_view_module_version": "1.2.0",
            "_view_name": "LayoutView",
            "align_content": null,
            "align_items": null,
            "align_self": null,
            "border": null,
            "bottom": null,
            "display": null,
            "flex": null,
            "flex_flow": null,
            "grid_area": null,
            "grid_auto_columns": null,
            "grid_auto_flow": null,
            "grid_auto_rows": null,
            "grid_column": null,
            "grid_gap": null,
            "grid_row": null,
            "grid_template_areas": null,
            "grid_template_columns": null,
            "grid_template_rows": null,
            "height": null,
            "justify_content": null,
            "justify_items": null,
            "left": null,
            "margin": null,
            "max_height": null,
            "max_width": null,
            "min_height": null,
            "min_width": null,
            "object_fit": null,
            "object_position": null,
            "order": null,
            "overflow": null,
            "overflow_x": null,
            "overflow_y": null,
            "padding": null,
            "right": null,
            "top": null,
            "visibility": null,
            "width": null
          }
        },
        "da53f905e32c4b57ab81b1c0ef4ede56": {
          "model_module": "@jupyter-widgets/controls",
          "model_name": "DescriptionStyleModel",
          "model_module_version": "1.5.0",
          "state": {
            "_model_module": "@jupyter-widgets/controls",
            "_model_module_version": "1.5.0",
            "_model_name": "DescriptionStyleModel",
            "_view_count": null,
            "_view_module": "@jupyter-widgets/base",
            "_view_module_version": "1.2.0",
            "_view_name": "StyleView",
            "description_width": ""
          }
        },
        "70445904bf6542b8adc77d65342db35b": {
          "model_module": "@jupyter-widgets/base",
          "model_name": "LayoutModel",
          "model_module_version": "1.2.0",
          "state": {
            "_model_module": "@jupyter-widgets/base",
            "_model_module_version": "1.2.0",
            "_model_name": "LayoutModel",
            "_view_count": null,
            "_view_module": "@jupyter-widgets/base",
            "_view_module_version": "1.2.0",
            "_view_name": "LayoutView",
            "align_content": null,
            "align_items": null,
            "align_self": null,
            "border": null,
            "bottom": null,
            "display": null,
            "flex": null,
            "flex_flow": null,
            "grid_area": null,
            "grid_auto_columns": null,
            "grid_auto_flow": null,
            "grid_auto_rows": null,
            "grid_column": null,
            "grid_gap": null,
            "grid_row": null,
            "grid_template_areas": null,
            "grid_template_columns": null,
            "grid_template_rows": null,
            "height": null,
            "justify_content": null,
            "justify_items": null,
            "left": null,
            "margin": null,
            "max_height": null,
            "max_width": null,
            "min_height": null,
            "min_width": null,
            "object_fit": null,
            "object_position": null,
            "order": null,
            "overflow": null,
            "overflow_x": null,
            "overflow_y": null,
            "padding": null,
            "right": null,
            "top": null,
            "visibility": null,
            "width": null
          }
        },
        "8f137f4279324601872232f85c4fdbac": {
          "model_module": "@jupyter-widgets/controls",
          "model_name": "ProgressStyleModel",
          "model_module_version": "1.5.0",
          "state": {
            "_model_module": "@jupyter-widgets/controls",
            "_model_module_version": "1.5.0",
            "_model_name": "ProgressStyleModel",
            "_view_count": null,
            "_view_module": "@jupyter-widgets/base",
            "_view_module_version": "1.2.0",
            "_view_name": "StyleView",
            "bar_color": null,
            "description_width": ""
          }
        },
        "abfdf343c26e4ec7a97f3fba029e46be": {
          "model_module": "@jupyter-widgets/base",
          "model_name": "LayoutModel",
          "model_module_version": "1.2.0",
          "state": {
            "_model_module": "@jupyter-widgets/base",
            "_model_module_version": "1.2.0",
            "_model_name": "LayoutModel",
            "_view_count": null,
            "_view_module": "@jupyter-widgets/base",
            "_view_module_version": "1.2.0",
            "_view_name": "LayoutView",
            "align_content": null,
            "align_items": null,
            "align_self": null,
            "border": null,
            "bottom": null,
            "display": null,
            "flex": null,
            "flex_flow": null,
            "grid_area": null,
            "grid_auto_columns": null,
            "grid_auto_flow": null,
            "grid_auto_rows": null,
            "grid_column": null,
            "grid_gap": null,
            "grid_row": null,
            "grid_template_areas": null,
            "grid_template_columns": null,
            "grid_template_rows": null,
            "height": null,
            "justify_content": null,
            "justify_items": null,
            "left": null,
            "margin": null,
            "max_height": null,
            "max_width": null,
            "min_height": null,
            "min_width": null,
            "object_fit": null,
            "object_position": null,
            "order": null,
            "overflow": null,
            "overflow_x": null,
            "overflow_y": null,
            "padding": null,
            "right": null,
            "top": null,
            "visibility": null,
            "width": null
          }
        },
        "3a1f887ee26f471e92b469b1f2bc1317": {
          "model_module": "@jupyter-widgets/controls",
          "model_name": "DescriptionStyleModel",
          "model_module_version": "1.5.0",
          "state": {
            "_model_module": "@jupyter-widgets/controls",
            "_model_module_version": "1.5.0",
            "_model_name": "DescriptionStyleModel",
            "_view_count": null,
            "_view_module": "@jupyter-widgets/base",
            "_view_module_version": "1.2.0",
            "_view_name": "StyleView",
            "description_width": ""
          }
        },
        "547eee47705844c4919b1b6c6fe90f01": {
          "model_module": "@jupyter-widgets/controls",
          "model_name": "HBoxModel",
          "model_module_version": "1.5.0",
          "state": {
            "_dom_classes": [],
            "_model_module": "@jupyter-widgets/controls",
            "_model_module_version": "1.5.0",
            "_model_name": "HBoxModel",
            "_view_count": null,
            "_view_module": "@jupyter-widgets/controls",
            "_view_module_version": "1.5.0",
            "_view_name": "HBoxView",
            "box_style": "",
            "children": [
              "IPY_MODEL_2ff31a9f2f87440c877c587bc5f21583",
              "IPY_MODEL_5a1f4426b0924c41b9f28bbdc82500ce",
              "IPY_MODEL_5364cb2d226140d78a54cb2a351ebe61"
            ],
            "layout": "IPY_MODEL_f045cf0924f940c1a7f9cb97c9c16d9f"
          }
        },
        "2ff31a9f2f87440c877c587bc5f21583": {
          "model_module": "@jupyter-widgets/controls",
          "model_name": "HTMLModel",
          "model_module_version": "1.5.0",
          "state": {
            "_dom_classes": [],
            "_model_module": "@jupyter-widgets/controls",
            "_model_module_version": "1.5.0",
            "_model_name": "HTMLModel",
            "_view_count": null,
            "_view_module": "@jupyter-widgets/controls",
            "_view_module_version": "1.5.0",
            "_view_name": "HTMLView",
            "description": "",
            "description_tooltip": null,
            "layout": "IPY_MODEL_c95973d1520844168a985eec6ae2574d",
            "placeholder": "​",
            "style": "IPY_MODEL_55f231ccfdd447f08e8dc4c172aded71",
            "value": "model.safetensors: 100%"
          }
        },
        "5a1f4426b0924c41b9f28bbdc82500ce": {
          "model_module": "@jupyter-widgets/controls",
          "model_name": "FloatProgressModel",
          "model_module_version": "1.5.0",
          "state": {
            "_dom_classes": [],
            "_model_module": "@jupyter-widgets/controls",
            "_model_module_version": "1.5.0",
            "_model_name": "FloatProgressModel",
            "_view_count": null,
            "_view_module": "@jupyter-widgets/controls",
            "_view_module_version": "1.5.0",
            "_view_name": "ProgressView",
            "bar_style": "success",
            "description": "",
            "description_tooltip": null,
            "layout": "IPY_MODEL_a43b496dcd4646d6ac30014c4c0261ac",
            "max": 654168456,
            "min": 0,
            "orientation": "horizontal",
            "style": "IPY_MODEL_b650e30ea6e24490a3bd2ca9466e9dac",
            "value": 654168456
          }
        },
        "5364cb2d226140d78a54cb2a351ebe61": {
          "model_module": "@jupyter-widgets/controls",
          "model_name": "HTMLModel",
          "model_module_version": "1.5.0",
          "state": {
            "_dom_classes": [],
            "_model_module": "@jupyter-widgets/controls",
            "_model_module_version": "1.5.0",
            "_model_name": "HTMLModel",
            "_view_count": null,
            "_view_module": "@jupyter-widgets/controls",
            "_view_module_version": "1.5.0",
            "_view_name": "HTMLView",
            "description": "",
            "description_tooltip": null,
            "layout": "IPY_MODEL_5b72a9c84c2a41f79e1406abfa3af606",
            "placeholder": "​",
            "style": "IPY_MODEL_41e998eae7ea497c85dbc349a491bf1b",
            "value": " 654M/654M [00:07&lt;00:00, 39.5MB/s]"
          }
        },
        "f045cf0924f940c1a7f9cb97c9c16d9f": {
          "model_module": "@jupyter-widgets/base",
          "model_name": "LayoutModel",
          "model_module_version": "1.2.0",
          "state": {
            "_model_module": "@jupyter-widgets/base",
            "_model_module_version": "1.2.0",
            "_model_name": "LayoutModel",
            "_view_count": null,
            "_view_module": "@jupyter-widgets/base",
            "_view_module_version": "1.2.0",
            "_view_name": "LayoutView",
            "align_content": null,
            "align_items": null,
            "align_self": null,
            "border": null,
            "bottom": null,
            "display": null,
            "flex": null,
            "flex_flow": null,
            "grid_area": null,
            "grid_auto_columns": null,
            "grid_auto_flow": null,
            "grid_auto_rows": null,
            "grid_column": null,
            "grid_gap": null,
            "grid_row": null,
            "grid_template_areas": null,
            "grid_template_columns": null,
            "grid_template_rows": null,
            "height": null,
            "justify_content": null,
            "justify_items": null,
            "left": null,
            "margin": null,
            "max_height": null,
            "max_width": null,
            "min_height": null,
            "min_width": null,
            "object_fit": null,
            "object_position": null,
            "order": null,
            "overflow": null,
            "overflow_x": null,
            "overflow_y": null,
            "padding": null,
            "right": null,
            "top": null,
            "visibility": null,
            "width": null
          }
        },
        "c95973d1520844168a985eec6ae2574d": {
          "model_module": "@jupyter-widgets/base",
          "model_name": "LayoutModel",
          "model_module_version": "1.2.0",
          "state": {
            "_model_module": "@jupyter-widgets/base",
            "_model_module_version": "1.2.0",
            "_model_name": "LayoutModel",
            "_view_count": null,
            "_view_module": "@jupyter-widgets/base",
            "_view_module_version": "1.2.0",
            "_view_name": "LayoutView",
            "align_content": null,
            "align_items": null,
            "align_self": null,
            "border": null,
            "bottom": null,
            "display": null,
            "flex": null,
            "flex_flow": null,
            "grid_area": null,
            "grid_auto_columns": null,
            "grid_auto_flow": null,
            "grid_auto_rows": null,
            "grid_column": null,
            "grid_gap": null,
            "grid_row": null,
            "grid_template_areas": null,
            "grid_template_columns": null,
            "grid_template_rows": null,
            "height": null,
            "justify_content": null,
            "justify_items": null,
            "left": null,
            "margin": null,
            "max_height": null,
            "max_width": null,
            "min_height": null,
            "min_width": null,
            "object_fit": null,
            "object_position": null,
            "order": null,
            "overflow": null,
            "overflow_x": null,
            "overflow_y": null,
            "padding": null,
            "right": null,
            "top": null,
            "visibility": null,
            "width": null
          }
        },
        "55f231ccfdd447f08e8dc4c172aded71": {
          "model_module": "@jupyter-widgets/controls",
          "model_name": "DescriptionStyleModel",
          "model_module_version": "1.5.0",
          "state": {
            "_model_module": "@jupyter-widgets/controls",
            "_model_module_version": "1.5.0",
            "_model_name": "DescriptionStyleModel",
            "_view_count": null,
            "_view_module": "@jupyter-widgets/base",
            "_view_module_version": "1.2.0",
            "_view_name": "StyleView",
            "description_width": ""
          }
        },
        "a43b496dcd4646d6ac30014c4c0261ac": {
          "model_module": "@jupyter-widgets/base",
          "model_name": "LayoutModel",
          "model_module_version": "1.2.0",
          "state": {
            "_model_module": "@jupyter-widgets/base",
            "_model_module_version": "1.2.0",
            "_model_name": "LayoutModel",
            "_view_count": null,
            "_view_module": "@jupyter-widgets/base",
            "_view_module_version": "1.2.0",
            "_view_name": "LayoutView",
            "align_content": null,
            "align_items": null,
            "align_self": null,
            "border": null,
            "bottom": null,
            "display": null,
            "flex": null,
            "flex_flow": null,
            "grid_area": null,
            "grid_auto_columns": null,
            "grid_auto_flow": null,
            "grid_auto_rows": null,
            "grid_column": null,
            "grid_gap": null,
            "grid_row": null,
            "grid_template_areas": null,
            "grid_template_columns": null,
            "grid_template_rows": null,
            "height": null,
            "justify_content": null,
            "justify_items": null,
            "left": null,
            "margin": null,
            "max_height": null,
            "max_width": null,
            "min_height": null,
            "min_width": null,
            "object_fit": null,
            "object_position": null,
            "order": null,
            "overflow": null,
            "overflow_x": null,
            "overflow_y": null,
            "padding": null,
            "right": null,
            "top": null,
            "visibility": null,
            "width": null
          }
        },
        "b650e30ea6e24490a3bd2ca9466e9dac": {
          "model_module": "@jupyter-widgets/controls",
          "model_name": "ProgressStyleModel",
          "model_module_version": "1.5.0",
          "state": {
            "_model_module": "@jupyter-widgets/controls",
            "_model_module_version": "1.5.0",
            "_model_name": "ProgressStyleModel",
            "_view_count": null,
            "_view_module": "@jupyter-widgets/base",
            "_view_module_version": "1.2.0",
            "_view_name": "StyleView",
            "bar_color": null,
            "description_width": ""
          }
        },
        "5b72a9c84c2a41f79e1406abfa3af606": {
          "model_module": "@jupyter-widgets/base",
          "model_name": "LayoutModel",
          "model_module_version": "1.2.0",
          "state": {
            "_model_module": "@jupyter-widgets/base",
            "_model_module_version": "1.2.0",
            "_model_name": "LayoutModel",
            "_view_count": null,
            "_view_module": "@jupyter-widgets/base",
            "_view_module_version": "1.2.0",
            "_view_name": "LayoutView",
            "align_content": null,
            "align_items": null,
            "align_self": null,
            "border": null,
            "bottom": null,
            "display": null,
            "flex": null,
            "flex_flow": null,
            "grid_area": null,
            "grid_auto_columns": null,
            "grid_auto_flow": null,
            "grid_auto_rows": null,
            "grid_column": null,
            "grid_gap": null,
            "grid_row": null,
            "grid_template_areas": null,
            "grid_template_columns": null,
            "grid_template_rows": null,
            "height": null,
            "justify_content": null,
            "justify_items": null,
            "left": null,
            "margin": null,
            "max_height": null,
            "max_width": null,
            "min_height": null,
            "min_width": null,
            "object_fit": null,
            "object_position": null,
            "order": null,
            "overflow": null,
            "overflow_x": null,
            "overflow_y": null,
            "padding": null,
            "right": null,
            "top": null,
            "visibility": null,
            "width": null
          }
        },
        "41e998eae7ea497c85dbc349a491bf1b": {
          "model_module": "@jupyter-widgets/controls",
          "model_name": "DescriptionStyleModel",
          "model_module_version": "1.5.0",
          "state": {
            "_model_module": "@jupyter-widgets/controls",
            "_model_module_version": "1.5.0",
            "_model_name": "DescriptionStyleModel",
            "_view_count": null,
            "_view_module": "@jupyter-widgets/base",
            "_view_module_version": "1.2.0",
            "_view_name": "StyleView",
            "description_width": ""
          }
        }
      }
    },
    "accelerator": "GPU"
  },
  "cells": [
    {
      "cell_type": "code",
      "metadata": {
        "colab": {
          "base_uri": "https://localhost:8080/"
        },
        "id": "246dcf75",
        "outputId": "5eed0ccd-b5fa-4fec-8c80-53188dc53f0c"
      },
      "source": [
        "%pip install adapters"
      ],
      "execution_count": 2,
      "outputs": [
        {
          "output_type": "stream",
          "name": "stdout",
          "text": [
            "Collecting adapters\n",
            "  Downloading adapters-1.2.0-py3-none-any.whl.metadata (17 kB)\n",
            "Collecting transformers~=4.51.3 (from adapters)\n",
            "  Downloading transformers-4.51.3-py3-none-any.whl.metadata (38 kB)\n",
            "Requirement already satisfied: packaging in /usr/local/lib/python3.11/dist-packages (from adapters) (24.2)\n",
            "Requirement already satisfied: filelock in /usr/local/lib/python3.11/dist-packages (from transformers~=4.51.3->adapters) (3.18.0)\n",
            "Requirement already satisfied: huggingface-hub<1.0,>=0.30.0 in /usr/local/lib/python3.11/dist-packages (from transformers~=4.51.3->adapters) (0.33.2)\n",
            "Requirement already satisfied: numpy>=1.17 in /usr/local/lib/python3.11/dist-packages (from transformers~=4.51.3->adapters) (2.0.2)\n",
            "Requirement already satisfied: pyyaml>=5.1 in /usr/local/lib/python3.11/dist-packages (from transformers~=4.51.3->adapters) (6.0.2)\n",
            "Requirement already satisfied: regex!=2019.12.17 in /usr/local/lib/python3.11/dist-packages (from transformers~=4.51.3->adapters) (2024.11.6)\n",
            "Requirement already satisfied: requests in /usr/local/lib/python3.11/dist-packages (from transformers~=4.51.3->adapters) (2.32.3)\n",
            "Requirement already satisfied: tokenizers<0.22,>=0.21 in /usr/local/lib/python3.11/dist-packages (from transformers~=4.51.3->adapters) (0.21.2)\n",
            "Requirement already satisfied: safetensors>=0.4.3 in /usr/local/lib/python3.11/dist-packages (from transformers~=4.51.3->adapters) (0.5.3)\n",
            "Requirement already satisfied: tqdm>=4.27 in /usr/local/lib/python3.11/dist-packages (from transformers~=4.51.3->adapters) (4.67.1)\n",
            "Requirement already satisfied: fsspec>=2023.5.0 in /usr/local/lib/python3.11/dist-packages (from huggingface-hub<1.0,>=0.30.0->transformers~=4.51.3->adapters) (2025.3.2)\n",
            "Requirement already satisfied: typing-extensions>=3.7.4.3 in /usr/local/lib/python3.11/dist-packages (from huggingface-hub<1.0,>=0.30.0->transformers~=4.51.3->adapters) (4.14.1)\n",
            "Requirement already satisfied: hf-xet<2.0.0,>=1.1.2 in /usr/local/lib/python3.11/dist-packages (from huggingface-hub<1.0,>=0.30.0->transformers~=4.51.3->adapters) (1.1.5)\n",
            "Requirement already satisfied: charset-normalizer<4,>=2 in /usr/local/lib/python3.11/dist-packages (from requests->transformers~=4.51.3->adapters) (3.4.2)\n",
            "Requirement already satisfied: idna<4,>=2.5 in /usr/local/lib/python3.11/dist-packages (from requests->transformers~=4.51.3->adapters) (3.10)\n",
            "Requirement already satisfied: urllib3<3,>=1.21.1 in /usr/local/lib/python3.11/dist-packages (from requests->transformers~=4.51.3->adapters) (2.4.0)\n",
            "Requirement already satisfied: certifi>=2017.4.17 in /usr/local/lib/python3.11/dist-packages (from requests->transformers~=4.51.3->adapters) (2025.7.9)\n",
            "Downloading adapters-1.2.0-py3-none-any.whl (302 kB)\n",
            "\u001b[2K   \u001b[90m━━━━━━━━━━━━━━━━━━━━━━━━━━━━━━━━━━━━━━━━\u001b[0m \u001b[32m302.2/302.2 kB\u001b[0m \u001b[31m11.4 MB/s\u001b[0m eta \u001b[36m0:00:00\u001b[0m\n",
            "\u001b[?25hDownloading transformers-4.51.3-py3-none-any.whl (10.4 MB)\n",
            "\u001b[2K   \u001b[90m━━━━━━━━━━━━━━━━━━━━━━━━━━━━━━━━━━━━━━━━\u001b[0m \u001b[32m10.4/10.4 MB\u001b[0m \u001b[31m118.2 MB/s\u001b[0m eta \u001b[36m0:00:00\u001b[0m\n",
            "\u001b[?25hInstalling collected packages: transformers, adapters\n",
            "  Attempting uninstall: transformers\n",
            "    Found existing installation: transformers 4.53.1\n",
            "    Uninstalling transformers-4.53.1:\n",
            "      Successfully uninstalled transformers-4.53.1\n",
            "\u001b[31mERROR: Operation cancelled by user\u001b[0m\u001b[31m\n",
            "\u001b[0m"
          ]
        }
      ]
    },
    {
      "cell_type": "code",
      "source": [
        "pip install transformers"
      ],
      "metadata": {
        "id": "3idSmxSzDtKj",
        "outputId": "e3176e67-6088-4a98-9604-9602acd8be52",
        "colab": {
          "base_uri": "https://localhost:8080/",
          "height": 582
        }
      },
      "execution_count": 5,
      "outputs": [
        {
          "output_type": "stream",
          "name": "stdout",
          "text": [
            "\u001b[33mWARNING: Ignoring invalid distribution ~ransformers (/usr/local/lib/python3.11/dist-packages)\u001b[0m\u001b[33m\n",
            "\u001b[0m\u001b[33mWARNING: Ignoring invalid distribution ~ransformers (/usr/local/lib/python3.11/dist-packages)\u001b[0m\u001b[33m\n",
            "\u001b[0mCollecting transformers\n",
            "  Downloading transformers-4.53.2-py3-none-any.whl.metadata (40 kB)\n",
            "\u001b[2K     \u001b[90m━━━━━━━━━━━━━━━━━━━━━━━━━━━━━━━━━━━━━━━━\u001b[0m \u001b[32m40.9/40.9 kB\u001b[0m \u001b[31m3.1 MB/s\u001b[0m eta \u001b[36m0:00:00\u001b[0m\n",
            "\u001b[?25hRequirement already satisfied: filelock in /usr/local/lib/python3.11/dist-packages (from transformers) (3.18.0)\n",
            "Requirement already satisfied: huggingface-hub<1.0,>=0.30.0 in /usr/local/lib/python3.11/dist-packages (from transformers) (0.33.2)\n",
            "Requirement already satisfied: numpy>=1.17 in /usr/local/lib/python3.11/dist-packages (from transformers) (2.0.2)\n",
            "Requirement already satisfied: packaging>=20.0 in /usr/local/lib/python3.11/dist-packages (from transformers) (24.2)\n",
            "Requirement already satisfied: pyyaml>=5.1 in /usr/local/lib/python3.11/dist-packages (from transformers) (6.0.2)\n",
            "Requirement already satisfied: regex!=2019.12.17 in /usr/local/lib/python3.11/dist-packages (from transformers) (2024.11.6)\n",
            "Requirement already satisfied: requests in /usr/local/lib/python3.11/dist-packages (from transformers) (2.32.3)\n",
            "Requirement already satisfied: tokenizers<0.22,>=0.21 in /usr/local/lib/python3.11/dist-packages (from transformers) (0.21.2)\n",
            "Requirement already satisfied: safetensors>=0.4.3 in /usr/local/lib/python3.11/dist-packages (from transformers) (0.5.3)\n",
            "Requirement already satisfied: tqdm>=4.27 in /usr/local/lib/python3.11/dist-packages (from transformers) (4.67.1)\n",
            "Requirement already satisfied: fsspec>=2023.5.0 in /usr/local/lib/python3.11/dist-packages (from huggingface-hub<1.0,>=0.30.0->transformers) (2025.3.2)\n",
            "Requirement already satisfied: typing-extensions>=3.7.4.3 in /usr/local/lib/python3.11/dist-packages (from huggingface-hub<1.0,>=0.30.0->transformers) (4.14.1)\n",
            "Requirement already satisfied: hf-xet<2.0.0,>=1.1.2 in /usr/local/lib/python3.11/dist-packages (from huggingface-hub<1.0,>=0.30.0->transformers) (1.1.5)\n",
            "Requirement already satisfied: charset-normalizer<4,>=2 in /usr/local/lib/python3.11/dist-packages (from requests->transformers) (3.4.2)\n",
            "Requirement already satisfied: idna<4,>=2.5 in /usr/local/lib/python3.11/dist-packages (from requests->transformers) (3.10)\n",
            "Requirement already satisfied: urllib3<3,>=1.21.1 in /usr/local/lib/python3.11/dist-packages (from requests->transformers) (2.4.0)\n",
            "Requirement already satisfied: certifi>=2017.4.17 in /usr/local/lib/python3.11/dist-packages (from requests->transformers) (2025.7.9)\n",
            "Downloading transformers-4.53.2-py3-none-any.whl (10.8 MB)\n",
            "\u001b[2K   \u001b[90m━━━━━━━━━━━━━━━━━━━━━━━━━━━━━━━━━━━━━━━━\u001b[0m \u001b[32m10.8/10.8 MB\u001b[0m \u001b[31m80.1 MB/s\u001b[0m eta \u001b[36m0:00:00\u001b[0m\n",
            "\u001b[?25h\u001b[33mWARNING: Ignoring invalid distribution ~ransformers (/usr/local/lib/python3.11/dist-packages)\u001b[0m\u001b[33m\n",
            "\u001b[0mInstalling collected packages: transformers\n",
            "Successfully installed transformers-4.53.2\n"
          ]
        },
        {
          "output_type": "display_data",
          "data": {
            "application/vnd.colab-display-data+json": {
              "pip_warning": {
                "packages": [
                  "transformers"
                ]
              },
              "id": "804c46e899ab40d68b21501b0ccbdb07"
            }
          },
          "metadata": {}
        }
      ]
    },
    {
      "cell_type": "code",
      "source": [
        "import torch\n",
        "from transformers import CLIPTokenizer, CLIPTextModel, BertTokenizer, CLIPModel\n",
        "# from transformers.adapters import BertAdapterModel\n",
        "from torch.utils.data import DataLoader, Dataset\n",
        "from torch.nn import MSELoss\n",
        "# import transformers.adapters.composition as ac"
      ],
      "metadata": {
        "id": "P3ofZpNrCtNI"
      },
      "execution_count": 1,
      "outputs": []
    },
    {
      "cell_type": "code",
      "source": [
        "# -----------------------\n",
        "# 1. Setup: Teacher (CLIP) and Student (BERT + Adapter)\n",
        "# -----------------------\n",
        "\n",
        "# Teacher: CLIP text encoder\n",
        "clip_tokenizer = CLIPTokenizer.from_pretrained(\"openai/clip-vit-large-patch14\")\n",
        "clip_model = CLIPModel.from_pretrained(\"openai/clip-vit-large-patch14\")\n",
        "clip_model.eval()\n",
        "for param in clip_model.parameters():\n",
        "    param.requires_grad = False\n",
        "\n",
        "# Student: BERT with adapter\n",
        "student_tokenizer = BertTokenizer.from_pretrained(\"HooshvareLab/bert-fa-base-uncased\")\n",
        "# Load the base model first\n",
        "from transformers import AutoModel\n",
        "from peft import LoraConfig, get_peft_model\n",
        "\n",
        "student_model = AutoModel.from_pretrained(\"HooshvareLab/bert-fa-base-uncased\")\n",
        "\n",
        "# Add adapter for distillation using a PeftConfig\n",
        "adapter_name = \"clip_distill_adapter\"\n",
        "config = LoraConfig(\n",
        "    r=8, # rank\n",
        "    lora_alpha=16,\n",
        "    target_modules=[\"query\", \"value\"], # commonly used for text models\n",
        "    lora_dropout=0.1,\n",
        "    bias=\"none\",\n",
        "    task_type=\"FEATURE_EXTRACTION\" # or \"SEQ_CLS\", etc. depending on your task\n",
        ")\n",
        "student_model = get_peft_model(student_model, config, adapter_name=adapter_name)\n",
        "\n",
        "# student_model.train_adapter(adapter_name) # This is not needed with peft"
      ],
      "metadata": {
        "colab": {
          "base_uri": "https://localhost:8080/",
          "height": 81,
          "referenced_widgets": [
            "0fd31fb8b97148f4969262b893c647fb",
            "4d7830ae1fcc45309ae66bafe65ed05a",
            "73f023e05a9f4a5885778b92a2d2a3f2",
            "6bac5d1ec7be4070a44902477316826a",
            "ef134475e8424800868a59d19c1ef003",
            "884bb028b5944c5c851c8e77af0afadb",
            "da53f905e32c4b57ab81b1c0ef4ede56",
            "70445904bf6542b8adc77d65342db35b",
            "8f137f4279324601872232f85c4fdbac",
            "abfdf343c26e4ec7a97f3fba029e46be",
            "3a1f887ee26f471e92b469b1f2bc1317",
            "547eee47705844c4919b1b6c6fe90f01",
            "2ff31a9f2f87440c877c587bc5f21583",
            "5a1f4426b0924c41b9f28bbdc82500ce",
            "5364cb2d226140d78a54cb2a351ebe61",
            "f045cf0924f940c1a7f9cb97c9c16d9f",
            "c95973d1520844168a985eec6ae2574d",
            "55f231ccfdd447f08e8dc4c172aded71",
            "a43b496dcd4646d6ac30014c4c0261ac",
            "b650e30ea6e24490a3bd2ca9466e9dac",
            "5b72a9c84c2a41f79e1406abfa3af606",
            "41e998eae7ea497c85dbc349a491bf1b"
          ]
        },
        "id": "gYLXG-8nCvup",
        "outputId": "4f0a4d77-ea59-4fda-eef8-ed4ced6e0817"
      },
      "execution_count": 2,
      "outputs": [
        {
          "output_type": "display_data",
          "data": {
            "text/plain": [
              "pytorch_model.bin:   0%|          | 0.00/654M [00:00<?, ?B/s]"
            ],
            "application/vnd.jupyter.widget-view+json": {
              "version_major": 2,
              "version_minor": 0,
              "model_id": "0fd31fb8b97148f4969262b893c647fb"
            }
          },
          "metadata": {}
        },
        {
          "output_type": "display_data",
          "data": {
            "text/plain": [
              "model.safetensors:   0%|          | 0.00/654M [00:00<?, ?B/s]"
            ],
            "application/vnd.jupyter.widget-view+json": {
              "version_major": 2,
              "version_minor": 0,
              "model_id": "547eee47705844c4919b1b6c6fe90f01"
            }
          },
          "metadata": {}
        }
      ]
    },
    {
      "cell_type": "code",
      "source": [
        "!curl https://raw.githubusercontent.com/merlin6990/Video-Retrieval-System/refs/heads/main/Data/output.json -o data.json"
      ],
      "metadata": {
        "colab": {
          "base_uri": "https://localhost:8080/"
        },
        "id": "Z0KG_ODnE0tk",
        "outputId": "6614d391-4660-4831-cba9-68a753aabe08"
      },
      "execution_count": 3,
      "outputs": [
        {
          "output_type": "stream",
          "name": "stdout",
          "text": [
            "  % Total    % Received % Xferd  Average Speed   Time    Time     Time  Current\n",
            "                                 Dload  Upload   Total   Spent    Left  Speed\n",
            "100 4724k  100 4724k    0     0  7455k      0 --:--:-- --:--:-- --:--:-- 7451k\n"
          ]
        }
      ]
    },
    {
      "cell_type": "code",
      "source": [
        "# Example usage\n",
        "import json\n",
        "\n",
        "# Replace 'your_json_string' with your actual JSON data as a string\n",
        "with open(\"data.json\", \"r\", encoding=\"utf-8\") as f:\n",
        "    data = json.load(f)"
      ],
      "metadata": {
        "id": "9A4jG7GJLC8e"
      },
      "execution_count": 4,
      "outputs": []
    },
    {
      "cell_type": "code",
      "source": [
        "def extract_sentences_and_translations(data):\n",
        "    results = []\n",
        "\n",
        "    def recursive_extract(obj):\n",
        "        if isinstance(obj, dict):\n",
        "            # If the object has an \"annotations\" key, process its list\n",
        "            if \"annotations\" in obj and isinstance(obj[\"annotations\"], list):\n",
        "                for annotation in obj[\"annotations\"]:\n",
        "                    if isinstance(annotation, dict):\n",
        "                        sentence = annotation.get(\"sentence\")\n",
        "                        translation = annotation.get(\"translation\")\n",
        "                        if sentence is not None and translation is not None:\n",
        "                            results.append((sentence, translation))\n",
        "            # Continue searching through the rest of the dict\n",
        "            for value in obj.values():\n",
        "                recursive_extract(value)\n",
        "        elif isinstance(obj, list):\n",
        "            for item in obj:\n",
        "                recursive_extract(item)\n",
        "\n",
        "    recursive_extract(data)\n",
        "    return results\n",
        "\n"
      ],
      "metadata": {
        "id": "aioPUK_iE2Ai"
      },
      "execution_count": 5,
      "outputs": []
    },
    {
      "cell_type": "code",
      "source": [
        "pairs = []\n",
        "\n",
        "for item in data.values():\n",
        "    pairs.extend(extract_sentences_and_translations(item))"
      ],
      "metadata": {
        "id": "AXBIhi7jKnmV"
      },
      "execution_count": 6,
      "outputs": []
    },
    {
      "cell_type": "code",
      "source": [
        "pairs[1000]"
      ],
      "metadata": {
        "id": "hSqKLPu7LKtl",
        "outputId": "31ddb1c5-a31d-4981-b8a5-fea9bfacae84",
        "colab": {
          "base_uri": "https://localhost:8080/"
        }
      },
      "execution_count": 7,
      "outputs": [
        {
          "output_type": "execute_result",
          "data": {
            "text/plain": [
              "('cover the bowl with saran wrap', 'کاسه را با نوار پوشانده')"
            ]
          },
          "metadata": {},
          "execution_count": 7
        }
      ]
    },
    {
      "cell_type": "code",
      "source": [
        "# -----------------------\n",
        "# 2. Sample Dataset\n",
        "# -----------------------\n",
        "\n",
        "class TextDataset(Dataset):\n",
        "    def __init__(self, texts):\n",
        "        self.texts = pairs\n",
        "\n",
        "    def __len__(self):\n",
        "        return len(self.texts)\n",
        "\n",
        "    def __getitem__(self, idx):\n",
        "        english = self.texts[idx][0]\n",
        "        persian = self.texts[idx][1]\n",
        "        return {\n",
        "            \"english\": english,\n",
        "            \"persian\": persian\n",
        "        }\n",
        "\n",
        "\n",
        "dataset = TextDataset(pairs)\n",
        "loader = DataLoader(dataset, batch_size=16, shuffle=True)"
      ],
      "metadata": {
        "id": "uLU94n2FCxxV"
      },
      "execution_count": 8,
      "outputs": []
    },
    {
      "cell_type": "code",
      "source": [
        "loader.__iter__().__next__()"
      ],
      "metadata": {
        "colab": {
          "base_uri": "https://localhost:8080/"
        },
        "id": "2EElG6WQM7YJ",
        "outputId": "c3585d56-1be2-4c84-e69b-bbf343657550"
      },
      "execution_count": 9,
      "outputs": [
        {
          "output_type": "execute_result",
          "data": {
            "text/plain": [
              "{'english': ['add red pepper flakes to the pot',\n",
              "  'add bean sprouts and chives',\n",
              "  'put another piece of white bread on the top of it',\n",
              "  'spread some butter on the nonstick skillet',\n",
              "  'place sauce and chicken on the pasta',\n",
              "  'add sugar to the wok and mix',\n",
              "  'pour the beef stock into the pan and season with some black pepper salt and bisto powder',\n",
              "  'bake the mussels at 250f for 7-10 minutes',\n",
              "  'place the pan into the oven',\n",
              "  'cook the rice with water seasoning oil and yellow coloring',\n",
              "  'place the eggs on top of the salmon',\n",
              "  'add pasta to pot',\n",
              "  'wash the clams under running water with hand and place them in a pot',\n",
              "  'fry some paste in a pan with oil',\n",
              "  'add clam juice 2 potatoes and bacon',\n",
              "  'crush the garlic mash with salt and chop'],\n",
              " 'persian': ['دانه های فلفل قرمز را به دیگ اضافه کنید',\n",
              "  'دانه های لوبیا و تره فرنگی را اضافه کنید',\n",
              "  'یک تکه نان سفید دیگر روی آن بگذار',\n",
              "  'مقداری کره روی ماهیتابه بدون دسته پهن کنید',\n",
              "  'سس و مرغ را روی پاستا بگذار',\n",
              "  'شکر را به دیگ اضافه کنید و مخلوط کنید.',\n",
              "  'گوشت گاو را در ماهیتابه بریزید و با نمک فلفل سیاه و پودر گاز ادویه بزنید.',\n",
              "  'موسل ها را در ۲۵۰ فوت فارغ برای هفت دقیقه بپزید.',\n",
              "  'ماهیتابه را در اجاق بگذارید',\n",
              "  'برنج را با روغن چاشنی زن و رنگ زرد بپزید',\n",
              "  'تخم مرغ ها را روی ماهی آزاد بگذارید',\n",
              "  'اضافه کردن پاستا به دیگ',\n",
              "  'صدف ها را با دست زیر آب جاری بشوئید و در دیگ بگذارید.',\n",
              "  'مقداری خمیر را در ماهیتابه ای با روغن سرخ کنید',\n",
              "  'آب صدف به آن اضافه کنید.',\n",
              "  'سیر را با نمک له و تکه تکه کن']}"
            ]
          },
          "metadata": {},
          "execution_count": 9
        }
      ]
    },
    {
      "cell_type": "code",
      "source": [
        "# -----------------------\n",
        "# 3. Training Loop\n",
        "# -----------------------\n",
        "\n",
        "device = torch.device(\"cuda\" if torch.cuda.is_available() else \"cpu\")\n",
        "clip_model.to(device)\n",
        "student_model.to(device)\n",
        "\n",
        "optimizer = torch.optim.Adam(student_model.parameters(), lr=1e-4)\n",
        "loss_fn = MSELoss()\n",
        "\n",
        "for epoch in range(3):\n",
        "    x = 0\n",
        "    for batch in loader:\n",
        "        # Teacher (CLIP): get text features from pooler_output (dim=768)\n",
        "        clip_inputs = clip_tokenizer(batch['english'], padding=True, return_tensors=\"pt\").to(device)\n",
        "        with torch.no_grad():\n",
        "            # Access text features from the pooler_output of the CLIPTextModel output\n",
        "            teacher_embeds = clip_model.get_text_features(**clip_inputs)\n",
        "\n",
        "        # Student (BERT): CLS token output (dim=768)\n",
        "        student_inputs = student_tokenizer(batch['persian'], padding=True, return_tensors=\"pt\").to(device)\n",
        "        student_output = student_model(**student_inputs).last_hidden_state[:, 0, :]  # [CLS]\n",
        "\n",
        "        # Loss and optimization\n",
        "        loss = loss_fn(student_output, teacher_embeds)\n",
        "        loss.backward()\n",
        "        optimizer.step()\n",
        "        optimizer.zero_grad()\n",
        "\n",
        "        if x % 1000 == 0:\n",
        "            print(f\"Epoch {epoch + 1} | Batch {x + 1} | Loss: {loss.item():.4f}\")\n",
        "        x += 16"
      ],
      "metadata": {
        "colab": {
          "base_uri": "https://localhost:8080/"
        },
        "id": "OrYpX0U1-qGI",
        "outputId": "14561ad7-942f-4811-f159-3ac0cb945b3f"
      },
      "execution_count": 10,
      "outputs": [
        {
          "output_type": "stream",
          "name": "stdout",
          "text": [
            "Epoch 1 | Batch 1 | Loss: 1.1584\n",
            "Epoch 1 | Batch 2001 | Loss: 0.4478\n",
            "Epoch 1 | Batch 4001 | Loss: 0.3785\n",
            "Epoch 1 | Batch 6001 | Loss: 0.3714\n",
            "Epoch 1 | Batch 8001 | Loss: 0.3718\n",
            "Epoch 1 | Batch 10001 | Loss: 0.3753\n",
            "Epoch 1 | Batch 12001 | Loss: 0.3561\n",
            "Epoch 2 | Batch 1 | Loss: 0.3172\n",
            "Epoch 2 | Batch 2001 | Loss: 0.3476\n",
            "Epoch 2 | Batch 4001 | Loss: 0.3538\n",
            "Epoch 2 | Batch 6001 | Loss: 0.3649\n",
            "Epoch 2 | Batch 8001 | Loss: 0.3514\n",
            "Epoch 2 | Batch 10001 | Loss: 0.3095\n",
            "Epoch 2 | Batch 12001 | Loss: 0.3101\n",
            "Epoch 3 | Batch 1 | Loss: 0.2910\n",
            "Epoch 3 | Batch 2001 | Loss: 0.3344\n",
            "Epoch 3 | Batch 4001 | Loss: 0.3303\n",
            "Epoch 3 | Batch 6001 | Loss: 0.3512\n",
            "Epoch 3 | Batch 8001 | Loss: 0.3507\n",
            "Epoch 3 | Batch 10001 | Loss: 0.3557\n",
            "Epoch 3 | Batch 12001 | Loss: 0.3426\n"
          ]
        }
      ]
    },
    {
      "cell_type": "code",
      "source": [
        "# -----------------------\n",
        "# 4. Save Adapter\n",
        "# -----------------------\n",
        "\n",
        "student_model.save_pretrained(\"clip_distill_adapter/\")\n",
        "print(\"✅ Adapter saved.\")"
      ],
      "metadata": {
        "colab": {
          "base_uri": "https://localhost:8080/"
        },
        "id": "X487EQItC2O7",
        "outputId": "a935cf6f-63a0-4fbd-e2bb-9aaa4ce446cb"
      },
      "execution_count": 11,
      "outputs": [
        {
          "output_type": "stream",
          "name": "stdout",
          "text": [
            "✅ Adapter saved.\n"
          ]
        }
      ]
    },
    {
      "cell_type": "code",
      "source": [],
      "metadata": {
        "id": "DvQPQtYvLVe2"
      },
      "execution_count": null,
      "outputs": []
    },
    {
      "cell_type": "code",
      "metadata": {
        "colab": {
          "base_uri": "https://localhost:8080/"
        },
        "id": "27a1b9b3",
        "outputId": "a269ab3f-523a-4fe3-9969-56f1cecbeb93"
      },
      "source": [
        "import torch\n",
        "from transformers import CLIPProcessor, CLIPVisionModel, BertTokenizer, AutoModel\n",
        "from peft import PeftModelForFeatureExtraction # Assuming FEATURE_EXTRACTION task type\n",
        "from torch.nn.functional import cosine_similarity\n",
        "from PIL import Image\n",
        "import requests\n",
        "\n",
        "processor = CLIPProcessor.from_pretrained(\"openai/clip-vit-base-patch32\")\n",
        "\n",
        "\n",
        "student_model.eval()\n",
        "\n",
        "# --- Encode an example image ---\n",
        "# You can replace this with your own image loading logic\n",
        "image_url = \"https://i.ytimg.com/vi/YRLiV17UCZ8/hq720.jpg?sqp=-oaymwEhCK4FEIIDSFryq4qpAxMIARUAAAAAGAElAADIQj0AgKJD&rs=AOn4CLBtjHlpQhT51hO1Ios995ojuJgGxQ\" # Example image URL\n",
        "image = Image.open(requests.get(image_url, stream=True).raw)\n",
        "\n",
        "# Process the image and get embeddings\n",
        "with torch.no_grad():\n",
        "    image_inputs = processor(images=image, return_tensors=\"pt\").to(device)\n",
        "    # CLIPVisionModel typically outputs a pooled output for the image embedding\n",
        "    image_embedding = clip_model.get_image_features(**image_inputs)\n",
        "\n",
        "print(\"Image embedding shape:\", image_embedding.shape)\n",
        "\n",
        "# --- Encode an example text ---\n",
        "# Example text (in Persian)\n",
        "text_to_encode = [\"دانه های لوبیا و تره فرنگی را اضافه کن\",\n",
        "                  \"سرخ کردن سبزیجات در ماهیتابه با قاشق چوبی\",\n",
        "                  \"تخم مرغ را در یک ظرف بشکنید.\",\n",
        "                  \"پنیر را روی نان بگذار\",\n",
        "                  \"ماهی‌تابه را در اجاق بگذار.\",\n",
        "                  ]\n",
        "\n",
        "# Tokenize the input text\n",
        "text_inputs = student_tokenizer(text_to_encode, return_tensors=\"pt\", padding=True, truncation=True)\n",
        "\n",
        "# Move inputs to the same device as the model\n",
        "text_inputs = {key: value.to(device) for key, value in text_inputs.items()}\n",
        "\n",
        "# Get the text embedding\n",
        "with torch.no_grad():\n",
        "    # Assuming the task type is FEATURE_EXTRACTION and CLS token is used for representation\n",
        "    text_embedding = student_model(**text_inputs).last_hidden_state[:, 0, :]\n",
        "\n",
        "print(\"Text embedding shape:\", text_embedding.shape)\n",
        "\n",
        "# --- Calculate Cosine Similarity ---\n",
        "# Ensure embeddings are normalized if necessary (CLIP embeddings are usually normalized)\n",
        "# You might want to normalize the student text embeddings as well for better comparison\n",
        "image_embedding_normalized = image_embedding / image_embedding.norm(p=2, dim=-1, keepdim=True)\n",
        "text_embedding_normalized = text_embedding / text_embedding.norm(p=2, dim=-1, keepdim=True)\n",
        "\n",
        "\n",
        "cosine_sim = cosine_similarity(image_embedding_normalized, text_embedding_normalized, dim=1)\n",
        "\n",
        "print(\"\\nCosine Similarity:\", cosine_sim)"
      ],
      "execution_count": 31,
      "outputs": [
        {
          "output_type": "stream",
          "name": "stdout",
          "text": [
            "Image embedding shape: torch.Size([1, 768])\n",
            "Text embedding shape: torch.Size([5, 768])\n",
            "\n",
            "Cosine Similarity: tensor([0.1782, 0.1974, 0.2285, 0.2302, 0.2391], device='cuda:0')\n"
          ]
        }
      ]
    },
    {
      "cell_type": "code",
      "source": [
        "import torch.nn.functional as F\n",
        "\n",
        "# Apply softmax to convert cosine similarities to probabilities\n",
        "probabilities = F.softmax(cosine_sim, dim=0)\n",
        "\n",
        "# Print the probabilities\n",
        "for i, (text, prob) in enumerate(zip(text_to_encode, probabilities)):\n",
        "    print(f\"{i+1}. \\\"{text}\\\" - Probability: {prob.item():.4f}\")\n"
      ],
      "metadata": {
        "id": "Sl9XBynsHAQU",
        "outputId": "4091b32c-94fb-439c-b124-65515b4adfa1",
        "colab": {
          "base_uri": "https://localhost:8080/"
        }
      },
      "execution_count": 32,
      "outputs": [
        {
          "output_type": "stream",
          "name": "stdout",
          "text": [
            "1. \"دانه های لوبیا و تره فرنگی را اضافه کن\" - Probability: 0.1928\n",
            "2. \"سرخ کردن سبزیجات در ماهیتابه با قاشق چوبی\" - Probability: 0.1965\n",
            "3. \"تخم مرغ را در یک ظرف بشکنید.\" - Probability: 0.2027\n",
            "4. \"پنیر را روی نان بگذار\" - Probability: 0.2031\n",
            "5. \"ماهی‌تابه را در اجاق بگذار.\" - Probability: 0.2049\n"
          ]
        }
      ]
    },
    {
      "cell_type": "code",
      "source": [
        "from peft import PeftModel\n",
        "\n",
        "student_.push_to_hub(\"your-username/my-adapter\")\n"
      ],
      "metadata": {
        "id": "tnPhvHKiJzQZ"
      },
      "execution_count": null,
      "outputs": []
    }
  ]
}